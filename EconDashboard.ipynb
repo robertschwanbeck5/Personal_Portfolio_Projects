{
 "cells": [
  {
   "cell_type": "code",
   "execution_count": 1,
   "id": "702a6a34-c6ee-4375-8e2f-8629a27b87e6",
   "metadata": {},
   "outputs": [],
   "source": [
    "import dash\n",
    "from dash import dcc, html\n",
    "import plotly.express as px\n",
    "import pandas as pd\n",
    "import requests\n",
    "\n"
   ]
  },
  {
   "cell_type": "code",
   "execution_count": 2,
   "id": "be4ea709-b7cc-4641-ada8-63587775dc89",
   "metadata": {},
   "outputs": [],
   "source": [
    "# Fetch real economic data from FRED API (Replace 'YOUR_API_KEY' with a valid FRED API key)\n",
    "FRED_API_KEY = \"df0d5f49a04e21c8b62b0798526f5172\"\n",
    "BASE_URL = \"https://api.stlouisfed.org/fred/series/observations\"\n",
    "\n",
    "def fetch_fred_data(series_id, start_year=\"2015\", end_year=\"2023\"):\n",
    "    url = f\"{BASE_URL}?series_id={series_id}&api_key={FRED_API_KEY}&file_type=json&observation_start={start_year}-01-01&observation_end={end_year}-12-31\"\n",
    "    response = requests.get(url)\n",
    "    data = response.json().get(\"observations\", [])\n",
    "    return pd.DataFrame([(obs[\"date\"], float(obs[\"value\"])) for obs in data], columns=[\"Year\", series_id]) if data else pd.DataFrame(columns=[\"Year\", series_id])\n",
    "\n"
   ]
  },
  {
   "cell_type": "code",
   "execution_count": 3,
   "id": "bd2a8b15-2e85-4b8c-8270-6e51aacc7822",
   "metadata": {},
   "outputs": [],
   "source": [
    "# Fetch data for GDP Growth, Inflation, Unemployment, and Interest Rates\n",
    "gdp_df = fetch_fred_data(\"A191RL1Q225SBEA\")  # GDP Growth Rate\n",
    "inflation_df = fetch_fred_data(\"CPIAUCSL\")  # Inflation Rate (Consumer Price Index)\n",
    "unemployment_df = fetch_fred_data(\"UNRATE\")  # Unemployment Rate\n",
    "interest_df = fetch_fred_data(\"FEDFUNDS\")  # Interest Rate\n",
    "cpi_df = fetch_fred_data(\"CPIAUCSL\") # Consumer Price Index (CPI)\n",
    "pce_df = fetch_fred_data(\"PCE\") # Personal Consumption Tax (PCE)"
   ]
  },
  {
   "cell_type": "code",
   "execution_count": 4,
   "id": "30c25729-b62e-490a-b634-0a89e5dd7507",
   "metadata": {},
   "outputs": [],
   "source": [
    "# Convert Year to datetime for merging\n",
    "gdp_df[\"Year\"] = pd.to_datetime(gdp_df[\"Year\"]).dt.year\n",
    "inflation_df[\"Year\"] = pd.to_datetime(inflation_df[\"Year\"]).dt.year\n",
    "unemployment_df[\"Year\"] = pd.to_datetime(unemployment_df[\"Year\"]).dt.year\n",
    "interest_df[\"Year\"] = pd.to_datetime(interest_df[\"Year\"]).dt.year\n",
    "cpi_df[\"Year\"] = pd.to_datetime(cpi_df[\"Year\"]).dt.year\n",
    "pce_df[\"Year\"] = pd.to_datetime(pce_df[\"Year\"]).dt.year"
   ]
  },
  {
   "cell_type": "code",
   "execution_count": 5,
   "id": "604b8ec9-3d1b-4a97-97fc-563fba4dba46",
   "metadata": {},
   "outputs": [],
   "source": [
    "# Merge data into a single DataFrame\n",
    "df = gdp_df.rename(columns={\"A191RL1Q225SBEA\": \"GDP Growth Rate\"})\n",
    "for new_df, col_name in zip([inflation_df, unemployment_df, interest_df, cpi_df, pce_df], [\"Inflation Rate\", \"Unemployment Rate\", \"Interest Rate\", \"CPI\", \"PCE\"]):\n",
    "    if not new_df.empty:\n",
    "        df = df.merge(new_df, on=\"Year\", how=\"outer\").rename(columns={new_df.columns[1]: col_name})\n",
    "\n"
   ]
  },
  {
   "cell_type": "code",
   "execution_count": 6,
   "id": "5231fd74-1fff-432c-ba0a-2ddbde01853c",
   "metadata": {},
   "outputs": [],
   "source": [
    "# Initialize the Dash app\n",
    "app = dash.Dash(__name__)\n",
    "\n",
    "# Layout of the dashboard\n",
    "app.layout = html.Div([\n",
    "    html.H1(\"Economic Indicators Dashboard\"),\n",
    "    \n",
    "    dcc.Dropdown(\n",
    "        id='indicator-dropdown',\n",
    "        options=[\n",
    "            {'label': 'GDP Growth Rate', 'value': 'GDP Growth Rate'},\n",
    "            {'label': 'Inflation Rate', 'value': 'Inflation Rate'},\n",
    "            {'label': 'Unemployment Rate', 'value': 'Unemployment Rate'},\n",
    "            {'label': 'Interest Rate', 'value': 'Interest Rate'},\n",
    "            {'label': 'CPI', 'value': 'CPI'},\n",
    "            {'label': 'PCE', 'value': 'PCE'}\n",
    "        ],\n",
    "        value='GDP Growth Rate',\n",
    "        clearable=False\n",
    "    ),\n",
    "    \n",
    "    dcc.Graph(id='indicator-graph')\n",
    "])\n"
   ]
  },
  {
   "cell_type": "code",
   "execution_count": 7,
   "id": "31b896bc-5f6e-4538-80b9-b5a789f3172b",
   "metadata": {},
   "outputs": [
    {
     "data": {
      "text/html": [
       "\n",
       "        <iframe\n",
       "            width=\"100%\"\n",
       "            height=\"650\"\n",
       "            src=\"http://127.0.0.1:8050/\"\n",
       "            frameborder=\"0\"\n",
       "            allowfullscreen\n",
       "            \n",
       "        ></iframe>\n",
       "        "
      ],
      "text/plain": [
       "<IPython.lib.display.IFrame at 0x7f34afec56a0>"
      ]
     },
     "metadata": {},
     "output_type": "display_data"
    }
   ],
   "source": [
    "\n",
    "# Callback to update the graph based on dropdown selection\n",
    "@app.callback(\n",
    "    dash.Output('indicator-graph', 'figure'),\n",
    "    [dash.Input('indicator-dropdown', 'value')]\n",
    ")\n",
    "def update_graph(selected_indicator):\n",
    "    if selected_indicator in df.columns:\n",
    "        fig = px.line(df, x='Year', y=selected_indicator, title=f'{selected_indicator} Over Time')\n",
    "    else:\n",
    "        fig = px.line(title=f'No Data Available for {selected_indicator}')\n",
    "    return fig\n",
    "\n",
    "if __name__ == '__main__':\n",
    "    app.run_server(debug=True)"
   ]
  },
  {
   "cell_type": "code",
   "execution_count": null,
   "id": "8f4cb6bb-fd72-472c-a41b-9e2606389680",
   "metadata": {},
   "outputs": [],
   "source": []
  }
 ],
 "metadata": {
  "kernelspec": {
   "display_name": "Python 3 (ipykernel)",
   "language": "python",
   "name": "python3"
  },
  "language_info": {
   "codemirror_mode": {
    "name": "ipython",
    "version": 3
   },
   "file_extension": ".py",
   "mimetype": "text/x-python",
   "name": "python",
   "nbconvert_exporter": "python",
   "pygments_lexer": "ipython3",
   "version": "3.12.3"
  }
 },
 "nbformat": 4,
 "nbformat_minor": 5
}
