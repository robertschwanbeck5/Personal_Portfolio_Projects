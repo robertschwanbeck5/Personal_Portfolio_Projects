{
 "cells": [
  {
   "cell_type": "markdown",
   "id": "80054092-fe7a-46fb-a31d-9ee70b611e55",
   "metadata": {},
   "source": [
    "# 2-layer Neural Network: XOR"
   ]
  },
  {
   "cell_type": "code",
   "execution_count": 1,
   "id": "552e80f0-83d5-4763-a08c-aed163154331",
   "metadata": {},
   "outputs": [],
   "source": [
    "import numpy as np"
   ]
  },
  {
   "cell_type": "code",
   "execution_count": 2,
   "id": "69aaa129-7f6c-487e-8185-aaf9457d76af",
   "metadata": {},
   "outputs": [],
   "source": [
    " def sigmoid(z):\n",
    "    return 1/(1 + np.exp(-z))"
   ]
  },
  {
   "cell_type": "code",
   "execution_count": 3,
   "id": "3cb46190-15d0-4fea-922e-c16749c61d10",
   "metadata": {},
   "outputs": [],
   "source": [
    "def initialize_parameters(n_x, n_h, n_y):\n",
    "    W1 = np.random.randn(n_h, n_x)\n",
    "    b1 = np.zeros((n_h, 1))\n",
    "    W2 = np.random.randn(n_y, n_h)\n",
    "    b2 = np.zeros((n_y, 1))\n",
    "    parameters = {\n",
    "        \"W1\" : W1,\n",
    "        \"b1\" : b1,\n",
    "        \"W2\" : W2,\n",
    "        \"b2\" : b2\n",
    "    }\n",
    "    return parameters"
   ]
  },
  {
   "cell_type": "code",
   "execution_count": 4,
   "id": "2e5ea4f3-1ca0-468f-90a8-d80ed3f30e43",
   "metadata": {},
   "outputs": [],
   "source": [
    "def forward_prop(X, parameters):\n",
    "    W1 = parameters[\"W1\"]\n",
    "    b1 = parameters[\"b1\"]\n",
    "    W2 = parameters[\"W2\"]\n",
    "    b2 = parameters[\"b2\"]\n",
    "    Z1 = np.dot(W1, X) + b1\n",
    "    A1 = np.tanh(Z1)\n",
    "    Z2 = np.dot(W2, A1) + b2\n",
    "    A2 = sigmoid(Z2)\n",
    "    cache = {\n",
    "        \"A1\" : A1,\n",
    "        \"A2\" : A2\n",
    "    }\n",
    "    return A2, cache"
   ]
  },
  {
   "cell_type": "markdown",
   "id": "5e315be3-30fd-413d-a5b1-ac49fbc25a43",
   "metadata": {},
   "source": [
    "##\n",
    "$$\n",
    "\\text{The binary cross-entropy loss: } J = -\\frac{1}{m} \\Sigma [Y \\text{log} (A2)] + (1-Y) \\text{log} (1 - A2)]\n",
    "$$"
   ]
  },
  {
   "cell_type": "code",
   "execution_count": 5,
   "id": "62d7b09e-a0de-461c-a20b-d3aa03c69abb",
   "metadata": {},
   "outputs": [],
   "source": [
    "def calculate_cost(A2, Y):\n",
    "    cost = -np.sum(np.multiply(Y, np.log(A2)) + np.multiply(1-Y, np.log(1-A2)))/m\n",
    "    cost = np.squeeze(cost)\n",
    "    return cost"
   ]
  },
  {
   "cell_type": "code",
   "execution_count": 6,
   "id": "f0218710-e4ce-4415-9932-eeb676d97521",
   "metadata": {},
   "outputs": [],
   "source": [
    "def backward_prop(X, Y, cache, parameters):\n",
    "    A1 = cache[\"A1\"]\n",
    "    A2 = cache[\"A2\"]\n",
    "    W2 = parameters[\"W2\"]\n",
    "    dZ2 = A2 - Y\n",
    "    dW2 = np.dot(dZ2, A1.T)/m\n",
    "    db2 = np.sum(dZ2, axis=1, keepdims=True)/m\n",
    "    dZ1 = np.multiply(np.dot(W2.T, dZ2), 1-np.power(A1, 2))\n",
    "    dW1 = np.dot(dZ1, X.T)/m\n",
    "    db1 = np.sum(dZ1, axis=1, keepdims=True)/m\n",
    "    grads = {\n",
    "        \"dW1\" : dW1,\n",
    "        \"db1\" : db1,\n",
    "        \"dW2\" : dW2,\n",
    "        \"db2\" : db2\n",
    "    }\n",
    "    return grads"
   ]
  },
  {
   "cell_type": "code",
   "execution_count": 7,
   "id": "061c9e76-1cf4-4620-8df9-bfc0ec92714a",
   "metadata": {},
   "outputs": [],
   "source": [
    "def update_parameters(parameters, grads, learning_rate):\n",
    "    W1 = parameters[\"W1\"]\n",
    "    b1 = parameters[\"b1\"]\n",
    "    W2 = parameters[\"W2\"]\n",
    "    b2 = parameters[\"b2\"]\n",
    "    dW1 = grads[\"dW1\"] \n",
    "    db1 = grads[\"db1\"] \n",
    "    dW2 = grads[\"dW2\"] \n",
    "    db2 = grads[\"db2\"]\n",
    "    W1 = W1 - learning_rate*dW1\n",
    "    b1 = b1 - learning_rate*db1\n",
    "    W2 = W2 - learning_rate*dW2\n",
    "    b2 = b2 - learning_rate*db2\n",
    "    new_parameters = {\n",
    "        \"W1\" : W1,\n",
    "        \"W2\" : W2,\n",
    "        \"b1\" : b1,\n",
    "        \"b2\" : b2        \n",
    "    }\n",
    "    return new_parameters"
   ]
  },
  {
   "cell_type": "code",
   "execution_count": 8,
   "id": "8f7ae939-4ea9-42e9-ad6f-34b61cd173fa",
   "metadata": {},
   "outputs": [],
   "source": [
    "def model(X, Y, n_x, n_h, n_y, num_of_iters, learning_rate):\n",
    "    parameters = initialize_parameters(n_x, n_h, n_y)\n",
    "    for i in range(0, num_of_iters+1):\n",
    "        a2, cache = forward_prop(X, parameters)\n",
    "        cost = calculate_cost(a2, Y) # check this\n",
    "        grads = backward_prop(X, Y, cache, parameters)\n",
    "        parameters = update_parameters(parameters, grads, learning_rate)\n",
    "        if(i%100 == 0):\n",
    "            print('Cost after iteration# {:d}: {:f}'.format(i, cost))\n",
    "    return parameters "
   ]
  },
  {
   "cell_type": "code",
   "execution_count": 13,
   "id": "5502e2d5-c680-41f3-a3bd-c119e8cf98c6",
   "metadata": {},
   "outputs": [
    {
     "name": "stdout",
     "output_type": "stream",
     "text": [
      "Cost after iteration# 0: 0.856267\n",
      "Cost after iteration# 100: 0.347426\n",
      "Cost after iteration# 200: 0.101195\n",
      "Cost after iteration# 300: 0.053631\n",
      "Cost after iteration# 400: 0.036031\n",
      "Cost after iteration# 500: 0.027002\n",
      "Cost after iteration# 600: 0.021543\n",
      "Cost after iteration# 700: 0.017896\n",
      "Cost after iteration# 800: 0.015293\n",
      "Cost after iteration# 900: 0.013344\n",
      "Cost after iteration# 1000: 0.011831\n",
      "Neural Network prediction for example (1, 1) is 0\n"
     ]
    }
   ],
   "source": [
    "def predict(X, parameters):\n",
    "    a2, cache = forward_prop(X, parameters) # check this\n",
    "    yhat = a2\n",
    "    yhat = np.squeeze(yhat)\n",
    "    if(yhat >= 0.5):\n",
    "        y_predict = 1\n",
    "    else:\n",
    "        y_predict = 0\n",
    "    return y_predict\n",
    " \n",
    "np.random.seed(2)\n",
    " # The 4 training examples by columns\n",
    "X = np.array([[0, 0, 1, 1], [0, 1, 0, 1]])\n",
    " # The outputs of the XOR for every example in X\n",
    "Y = np.array([[0, 1, 1, 0]])\n",
    " # No. of training examples\n",
    "m = X.shape[1]\n",
    " # Set the hyperparameters\n",
    "n_x = 2 # No. of nuerons in the first layer\n",
    "n_h = 2 # No. of nuerons in the hidden layer\n",
    "n_y = 1 # No. of nuerons in the output layer\n",
    "num_of_iters = 1000\n",
    "learning_rate = 0.3\n",
    "trained_parameters = model(X, Y, n_x, n_h, n_y, num_of_iters, learning_rate)\n",
    " # Test 2X1 vector to calculate the XOR of its elements.\n",
    " # Try (0,0), (0,1), (1,0), (1,1)\n",
    "X_test = np.array([[1], [1]])\n",
    "y_predict = predict(X_test, trained_parameters)\n",
    "print('Neural Network prediction for example ({:d}, {:d}) is {:d}'.format(X_test[0][0], X_test[1][0], y_predict))"
   ]
  },
  {
   "cell_type": "code",
   "execution_count": null,
   "id": "eaddeb67-ea27-4f41-bea8-418b69b046f5",
   "metadata": {},
   "outputs": [],
   "source": []
  }
 ],
 "metadata": {
  "kernelspec": {
   "display_name": "Python 3 (ipykernel)",
   "language": "python",
   "name": "python3"
  },
  "language_info": {
   "codemirror_mode": {
    "name": "ipython",
    "version": 3
   },
   "file_extension": ".py",
   "mimetype": "text/x-python",
   "name": "python",
   "nbconvert_exporter": "python",
   "pygments_lexer": "ipython3",
   "version": "3.13.3"
  }
 },
 "nbformat": 4,
 "nbformat_minor": 5
}
