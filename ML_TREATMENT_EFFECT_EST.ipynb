{
 "cells": [
  {
   "cell_type": "markdown",
   "id": "0e7d3b34-4e86-4f83-a74a-cddaeb42c43b",
   "metadata": {},
   "source": [
    "# The Use of Machine Learning in Treatment Effect Estimation"
   ]
  },
  {
   "cell_type": "code",
   "execution_count": 17,
   "id": "3bebb3a7-5a5f-4e7b-9658-950cb00fff6c",
   "metadata": {},
   "outputs": [],
   "source": [
    "import numpy as np\n",
    "import pandas as pd\n",
    "from sklearn.ensemble import RandomForestRegressor, RandomForestClassifier\n",
    "from sklearn.model_selection import train_test_split\n",
    "from econml.dml import DML\n",
    "from sklearn.linear_model import LinearRegression\n",
    "from sklearn.tree import DecisionTreeRegressor, export_text  # Add export_text import\n",
    "import matplotlib.pyplot as plt"
   ]
  },
  {
   "cell_type": "markdown",
   "id": "d3d700e9-f179-4a90-8e2b-594d35eee63d",
   "metadata": {},
   "source": [
    "#### $Y(1)$ is the potential outcome under treatment \n",
    "#### $Y(0)$ is the potential outcome under no treatment. \n",
    "#### These are associated with the binary treatment $D \\:\\epsilon\\: \\{0,1\\}$ \n",
    "#### let $X$ stand for the vector of predetermined covariates. "
   ]
  },
  {
   "cell_type": "code",
   "execution_count": 10,
   "id": "f041a24b-c081-46e8-94b3-923e4a0cddef",
   "metadata": {},
   "outputs": [],
   "source": [
    "# Step 1: Simulate Data with Treatment Effect Heterogeneity\n",
    "np.random.seed(123)\n",
    "n = 1000\n",
    "X = np.random.normal(0, 1, (n, 3))  # Covariates\n",
    "T = np.random.binomial(1, 0.5, n)   # Binary Treatment\n",
    "# Outcome with heterogenous treatment effect\n",
    "Y = 2*T*X[:, 0] + X[:, 1] + np.random.normal(0, 1, n)"
   ]
  },
  {
   "cell_type": "code",
   "execution_count": 11,
   "id": "6c3bc26e-a5fe-4374-a171-c68b2016cbd2",
   "metadata": {},
   "outputs": [],
   "source": [
    "# Step 2: Split the data into train and test sets\n",
    "X_train, X_test, T_train, T_test, Y_train, Y_test = train_test_split(X, T, Y, test_size=0.2, random_state=42)"
   ]
  },
  {
   "cell_type": "code",
   "execution_count": 12,
   "id": "db0d7033-08e7-416b-8f85-fcf9f2387894",
   "metadata": {},
   "outputs": [],
   "source": [
    "# Step 3: Define machine learning models for Y and T\n",
    "model_y = RandomForestRegressor(n_estimators=100, random_state=42)\n",
    "model_t = RandomForestClassifier(n_estimators=100, random_state=42)"
   ]
  },
  {
   "cell_type": "code",
   "execution_count": 19,
   "id": "0f760457-508f-40c2-839b-eda55408da52",
   "metadata": {},
   "outputs": [
    {
     "data": {
      "text/plain": [
       "<econml.dml.dml.DML at 0x7252ed962800>"
      ]
     },
     "execution_count": 19,
     "metadata": {},
     "output_type": "execute_result"
    }
   ],
   "source": [
    "# Step 4: Initialize Double Machine Learning (DML) estimator\n",
    "# Modify LinearRegression to not fit an intercept\n",
    "dml_estimator = DML(\n",
    "    model_y=model_y, \n",
    "    model_t=model_t, \n",
    "    model_final=LinearRegression(fit_intercept=False),  # Disable intercept in final model\n",
    "    discrete_treatment=True)\n",
    "\n",
    "# Fit the DML estimator to the training data\n",
    "dml_estimator.fit(Y_train, T_train, X=X_train)"
   ]
  },
  {
   "cell_type": "code",
   "execution_count": 20,
   "id": "276cfbc1-2a2d-4351-9d90-0644f3e87abb",
   "metadata": {},
   "outputs": [
    {
     "name": "stdout",
     "output_type": "stream",
     "text": [
      "Average Treatment Effect (ATE): -0.35664078029578705\n"
     ]
    }
   ],
   "source": [
    "# Step 5: Average Treatment Effect (ATE) Estimation\n",
    "# Estimate the ATE across all test samples\n",
    "ate = dml_estimator.effect(X_test)\n",
    "print(f\"Average Treatment Effect (ATE): {np.mean(ate)}\")"
   ]
  },
  {
   "cell_type": "code",
   "execution_count": 21,
   "id": "3b6faaa9-ff63-4440-9995-951491fd7017",
   "metadata": {},
   "outputs": [
    {
     "name": "stdout",
     "output_type": "stream",
     "text": [
      "Conditional Average Treatment Effects (CATE) for test samples: \n",
      "[-3.08549298 -3.1941603   1.7404985   0.62244308  0.81657591]\n"
     ]
    },
    {
     "data": {
      "image/png": "[encoded data removed]",
      "text/plain": [
       "<Figure size 432x288 with 1 Axes>"
      ]
     },
     "metadata": {
      "needs_background": "light"
     },
     "output_type": "display_data"
    }
   ],
   "source": [
    "# Step 6: Conditional Average Treatment Effect (CATE) Estimation\n",
    "# Estimate treatment effects conditional on covariates (CATE)\n",
    "cate = dml_estimator.effect(X_test)\n",
    "\n",
    "# Print CATEs for first few test samples\n",
    "print(f\"Conditional Average Treatment Effects (CATE) for test samples: \\n{cate[:5]}\")\n",
    "\n",
    "# Optional: Visualizing treatment effect heterogeneity across covariate X[:, 0]\n",
    "plt.scatter(X_test[:, 0], cate, alpha=0.5)\n",
    "plt.xlabel('Covariate X[:, 0]')\n",
    "plt.ylabel('Conditional Treatment Effect (CATE)')\n",
    "plt.title('Heterogeneous Treatment Effect with Covariate X[:, 0]')\n",
    "plt.show()"
   ]
  },
  {
   "cell_type": "code",
   "execution_count": 22,
   "id": "2f81e01e-9a6c-48b6-bf5b-e20d99c1e508",
   "metadata": {},
   "outputs": [
    {
     "name": "stdout",
     "output_type": "stream",
     "text": [
      "Decision rules from tree: \n",
      "|--- feature_0 <= -0.34\n",
      "|   |--- feature_0 <= -1.17\n",
      "|   |   |--- feature_0 <= -1.74\n",
      "|   |   |   |--- value: [-4.48]\n",
      "|   |   |--- feature_0 >  -1.74\n",
      "|   |   |   |--- value: [-2.92]\n",
      "|   |--- feature_0 >  -1.17\n",
      "|   |   |--- feature_0 <= -0.68\n",
      "|   |   |   |--- value: [-1.78]\n",
      "|   |   |--- feature_0 >  -0.68\n",
      "|   |   |   |--- value: [-1.06]\n",
      "|--- feature_0 >  -0.34\n",
      "|   |--- feature_0 <= 0.49\n",
      "|   |   |--- feature_0 <= 0.11\n",
      "|   |   |   |--- value: [-0.26]\n",
      "|   |   |--- feature_0 >  0.11\n",
      "|   |   |   |--- value: [0.47]\n",
      "|   |--- feature_0 >  0.49\n",
      "|   |   |--- feature_0 <= 1.06\n",
      "|   |   |   |--- value: [1.41]\n",
      "|   |   |--- feature_0 >  1.06\n",
      "|   |   |   |--- value: [2.61]\n",
      "\n"
     ]
    }
   ],
   "source": [
    "# Step 7: Check treatment effect heterogeneity in a more structured way (optional)\n",
    "# Use DecisionTreeRegressor to uncover decision rules for CATE\n",
    "tree_model = DecisionTreeRegressor(max_depth=3)\n",
    "tree_model.fit(X_test, cate)\n",
    "tree_model_text = export_text(tree_model)\n",
    "print(f\"Decision rules from tree: \\n{tree_model_text}\")"
   ]
  },
  {
   "cell_type": "code",
   "execution_count": null,
   "id": "80873d01-de48-451a-b9de-d66870f0493c",
   "metadata": {},
   "outputs": [],
   "source": []
  }
 ],
 "metadata": {
  "kernelspec": {
   "display_name": "Python 3 (ipykernel)",
   "language": "python",
   "name": "python3"
  },
  "language_info": {
   "codemirror_mode": {
    "name": "ipython",
    "version": 3
   },
   "file_extension": ".py",
   "mimetype": "text/x-python",
   "name": "python",
   "nbconvert_exporter": "python",
   "pygments_lexer": "ipython3",
   "version": "3.10.12"
  }
 },
 "nbformat": 4,
 "nbformat_minor": 5
}
